{
 "cells": [
  {
   "cell_type": "code",
   "execution_count": null,
   "id": "e29b431e-f34e-4d61-b83e-d442acf2987c",
   "metadata": {},
   "outputs": [],
   "source": [
    "#Kacper Klocek Data Analytics project"
   ]
  },
  {
   "cell_type": "code",
   "execution_count": 5,
   "id": "235113d9-8bcc-4aa3-a9cf-81daf8a52b2b",
   "metadata": {},
   "outputs": [],
   "source": [
    "#Data Cleaning\n",
    "import pandas as pd\n",
    "data = pd.read_csv('Dataset_files/prosecutionProject.csv')\n",
    "\n",
    "# Step 3: Remove the \"Short narrative\" column\n",
    "#Removed the \"Short narrative\" column as it servers no use in data analysis\n",
    "data_cleaned = data.drop(columns=['Short narrative'])\n",
    "\n",
    "\n",
    "missing_values_summary = data_cleaned.isnull().sum()\n",
    "columns_to_drop = missing_values_summary[missing_values_summary > (0.5 * len(data_cleaned))].index\n",
    "#Dropped columns with over 50% missing data\n",
    "data_cleaned = data_cleaned.drop(columns=columns_to_drop)\n",
    "\n",
    "#Converted Data to datatime\n",
    "data_cleaned['Date'] = pd.to_datetime(data_cleaned['Date'], errors='coerce')\n",
    "\n",
    "# Display cleaned dataset\n",
    "#print(data_cleaned.head())\n",
    "\n",
    "#Saved the cleaned data, which will be used for the remainder of the project\n",
    "data_cleaned.to_csv('Dataset_files/cleaned_dataset.csv', index=False)\n"
   ]
  },
  {
   "cell_type": "code",
   "execution_count": null,
   "id": "21860efd-8d5f-47c9-9a50-5ce59e67b9a0",
   "metadata": {},
   "outputs": [],
   "source": []
  }
 ],
 "metadata": {
  "kernelspec": {
   "display_name": "Python 3 (ipykernel)",
   "language": "python",
   "name": "python3"
  },
  "language_info": {
   "codemirror_mode": {
    "name": "ipython",
    "version": 3
   },
   "file_extension": ".py",
   "mimetype": "text/x-python",
   "name": "python",
   "nbconvert_exporter": "python",
   "pygments_lexer": "ipython3",
   "version": "3.13.0"
  }
 },
 "nbformat": 4,
 "nbformat_minor": 5
}
